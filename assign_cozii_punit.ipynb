{
  "cells": [
    {
      "cell_type": "code",
      "execution_count": 1,
      "id": "7e554707-90a9-41fb-b749-84e27e9bdad9",
      "metadata": {
        "id": "7e554707-90a9-41fb-b749-84e27e9bdad9"
      },
      "outputs": [],
      "source": [
        "import pandas as pd\n",
        "import numpy as np\n",
        "from sklearn.metrics.pairwise import cosine_similarity\n",
        "from sklearn.decomposition import TruncatedSVD\n",
        "from sklearn.model_selection import train_test_split\n",
        "from sklearn.metrics import mean_squared_error\n",
        "from scipy.sparse import csr_matrix"
      ]
    },
    {
      "cell_type": "code",
      "execution_count": 2,
      "id": "8fcdbe7c-2f10-45a6-98b6-1923d0fcc41f",
      "metadata": {
        "id": "8fcdbe7c-2f10-45a6-98b6-1923d0fcc41f"
      },
      "outputs": [],
      "source": [
        "movies = pd.read_csv(\"movies.csv\")\n",
        "ratings = pd.read_csv(\"ratings.csv\")"
      ]
    },
    {
      "cell_type": "code",
      "execution_count": 3,
      "id": "97aac4a8-dba9-432b-9aee-64fc4906370d",
      "metadata": {
        "colab": {
          "base_uri": "https://localhost:8080/"
        },
        "id": "97aac4a8-dba9-432b-9aee-64fc4906370d",
        "outputId": "4c697a0c-ac0d-4ced-a2ef-02e6deb892d0"
      },
      "outputs": [
        {
          "output_type": "stream",
          "name": "stdout",
          "text": [
            "movieId    0\n",
            "title      0\n",
            "genres     0\n",
            "dtype: int64\n"
          ]
        }
      ],
      "source": [
        "print(movies.isnull().sum())\n"
      ]
    },
    {
      "cell_type": "code",
      "execution_count": 4,
      "id": "ee451580-57a8-463b-81cc-6cc887a43b52",
      "metadata": {
        "colab": {
          "base_uri": "https://localhost:8080/"
        },
        "id": "ee451580-57a8-463b-81cc-6cc887a43b52",
        "outputId": "a8346026-77d8-4ee8-c65e-39fe9a2c9128"
      },
      "outputs": [
        {
          "output_type": "stream",
          "name": "stdout",
          "text": [
            "userId       0\n",
            "movieId      0\n",
            "rating       0\n",
            "timestamp    0\n",
            "dtype: int64\n"
          ]
        }
      ],
      "source": [
        "print(ratings.isnull().sum())\n"
      ]
    },
    {
      "cell_type": "code",
      "execution_count": 5,
      "id": "fe63c442-affc-4a8e-ad69-6371f455cfc5",
      "metadata": {
        "id": "fe63c442-affc-4a8e-ad69-6371f455cfc5"
      },
      "outputs": [],
      "source": [
        "movies['genres'] = movies['genres'].str.split('|')\n"
      ]
    },
    {
      "cell_type": "code",
      "execution_count": 6,
      "id": "5f3ef754-132f-4ced-93fc-88c21fe69132",
      "metadata": {
        "colab": {
          "base_uri": "https://localhost:8080/",
          "height": 112
        },
        "id": "5f3ef754-132f-4ced-93fc-88c21fe69132",
        "outputId": "fbfc6a14-3786-4196-8965-c3cff7223ea0"
      },
      "outputs": [
        {
          "output_type": "execute_result",
          "data": {
            "text/plain": [
              "   movieId             title  \\\n",
              "0        1  Toy Story (1995)   \n",
              "1        2    Jumanji (1995)   \n",
              "\n",
              "                                              genres  \n",
              "0  [Adventure, Animation, Children, Comedy, Fantasy]  \n",
              "1                     [Adventure, Children, Fantasy]  "
            ],
            "text/html": [
              "\n",
              "  <div id=\"df-401270ee-1687-42be-9048-a5224fa6a408\" class=\"colab-df-container\">\n",
              "    <div>\n",
              "<style scoped>\n",
              "    .dataframe tbody tr th:only-of-type {\n",
              "        vertical-align: middle;\n",
              "    }\n",
              "\n",
              "    .dataframe tbody tr th {\n",
              "        vertical-align: top;\n",
              "    }\n",
              "\n",
              "    .dataframe thead th {\n",
              "        text-align: right;\n",
              "    }\n",
              "</style>\n",
              "<table border=\"1\" class=\"dataframe\">\n",
              "  <thead>\n",
              "    <tr style=\"text-align: right;\">\n",
              "      <th></th>\n",
              "      <th>movieId</th>\n",
              "      <th>title</th>\n",
              "      <th>genres</th>\n",
              "    </tr>\n",
              "  </thead>\n",
              "  <tbody>\n",
              "    <tr>\n",
              "      <th>0</th>\n",
              "      <td>1</td>\n",
              "      <td>Toy Story (1995)</td>\n",
              "      <td>[Adventure, Animation, Children, Comedy, Fantasy]</td>\n",
              "    </tr>\n",
              "    <tr>\n",
              "      <th>1</th>\n",
              "      <td>2</td>\n",
              "      <td>Jumanji (1995)</td>\n",
              "      <td>[Adventure, Children, Fantasy]</td>\n",
              "    </tr>\n",
              "  </tbody>\n",
              "</table>\n",
              "</div>\n",
              "    <div class=\"colab-df-buttons\">\n",
              "\n",
              "  <div class=\"colab-df-container\">\n",
              "    <button class=\"colab-df-convert\" onclick=\"convertToInteractive('df-401270ee-1687-42be-9048-a5224fa6a408')\"\n",
              "            title=\"Convert this dataframe to an interactive table.\"\n",
              "            style=\"display:none;\">\n",
              "\n",
              "  <svg xmlns=\"http://www.w3.org/2000/svg\" height=\"24px\" viewBox=\"0 -960 960 960\">\n",
              "    <path d=\"M120-120v-720h720v720H120Zm60-500h600v-160H180v160Zm220 220h160v-160H400v160Zm0 220h160v-160H400v160ZM180-400h160v-160H180v160Zm440 0h160v-160H620v160ZM180-180h160v-160H180v160Zm440 0h160v-160H620v160Z\"/>\n",
              "  </svg>\n",
              "    </button>\n",
              "\n",
              "  <style>\n",
              "    .colab-df-container {\n",
              "      display:flex;\n",
              "      gap: 12px;\n",
              "    }\n",
              "\n",
              "    .colab-df-convert {\n",
              "      background-color: #E8F0FE;\n",
              "      border: none;\n",
              "      border-radius: 50%;\n",
              "      cursor: pointer;\n",
              "      display: none;\n",
              "      fill: #1967D2;\n",
              "      height: 32px;\n",
              "      padding: 0 0 0 0;\n",
              "      width: 32px;\n",
              "    }\n",
              "\n",
              "    .colab-df-convert:hover {\n",
              "      background-color: #E2EBFA;\n",
              "      box-shadow: 0px 1px 2px rgba(60, 64, 67, 0.3), 0px 1px 3px 1px rgba(60, 64, 67, 0.15);\n",
              "      fill: #174EA6;\n",
              "    }\n",
              "\n",
              "    .colab-df-buttons div {\n",
              "      margin-bottom: 4px;\n",
              "    }\n",
              "\n",
              "    [theme=dark] .colab-df-convert {\n",
              "      background-color: #3B4455;\n",
              "      fill: #D2E3FC;\n",
              "    }\n",
              "\n",
              "    [theme=dark] .colab-df-convert:hover {\n",
              "      background-color: #434B5C;\n",
              "      box-shadow: 0px 1px 3px 1px rgba(0, 0, 0, 0.15);\n",
              "      filter: drop-shadow(0px 1px 2px rgba(0, 0, 0, 0.3));\n",
              "      fill: #FFFFFF;\n",
              "    }\n",
              "  </style>\n",
              "\n",
              "    <script>\n",
              "      const buttonEl =\n",
              "        document.querySelector('#df-401270ee-1687-42be-9048-a5224fa6a408 button.colab-df-convert');\n",
              "      buttonEl.style.display =\n",
              "        google.colab.kernel.accessAllowed ? 'block' : 'none';\n",
              "\n",
              "      async function convertToInteractive(key) {\n",
              "        const element = document.querySelector('#df-401270ee-1687-42be-9048-a5224fa6a408');\n",
              "        const dataTable =\n",
              "          await google.colab.kernel.invokeFunction('convertToInteractive',\n",
              "                                                    [key], {});\n",
              "        if (!dataTable) return;\n",
              "\n",
              "        const docLinkHtml = 'Like what you see? Visit the ' +\n",
              "          '<a target=\"_blank\" href=https://colab.research.google.com/notebooks/data_table.ipynb>data table notebook</a>'\n",
              "          + ' to learn more about interactive tables.';\n",
              "        element.innerHTML = '';\n",
              "        dataTable['output_type'] = 'display_data';\n",
              "        await google.colab.output.renderOutput(dataTable, element);\n",
              "        const docLink = document.createElement('div');\n",
              "        docLink.innerHTML = docLinkHtml;\n",
              "        element.appendChild(docLink);\n",
              "      }\n",
              "    </script>\n",
              "  </div>\n",
              "\n",
              "\n",
              "<div id=\"df-1e3d4f54-0881-4c64-9e96-ef1e3d11fbcc\">\n",
              "  <button class=\"colab-df-quickchart\" onclick=\"quickchart('df-1e3d4f54-0881-4c64-9e96-ef1e3d11fbcc')\"\n",
              "            title=\"Suggest charts\"\n",
              "            style=\"display:none;\">\n",
              "\n",
              "<svg xmlns=\"http://www.w3.org/2000/svg\" height=\"24px\"viewBox=\"0 0 24 24\"\n",
              "     width=\"24px\">\n",
              "    <g>\n",
              "        <path d=\"M19 3H5c-1.1 0-2 .9-2 2v14c0 1.1.9 2 2 2h14c1.1 0 2-.9 2-2V5c0-1.1-.9-2-2-2zM9 17H7v-7h2v7zm4 0h-2V7h2v10zm4 0h-2v-4h2v4z\"/>\n",
              "    </g>\n",
              "</svg>\n",
              "  </button>\n",
              "\n",
              "<style>\n",
              "  .colab-df-quickchart {\n",
              "      --bg-color: #E8F0FE;\n",
              "      --fill-color: #1967D2;\n",
              "      --hover-bg-color: #E2EBFA;\n",
              "      --hover-fill-color: #174EA6;\n",
              "      --disabled-fill-color: #AAA;\n",
              "      --disabled-bg-color: #DDD;\n",
              "  }\n",
              "\n",
              "  [theme=dark] .colab-df-quickchart {\n",
              "      --bg-color: #3B4455;\n",
              "      --fill-color: #D2E3FC;\n",
              "      --hover-bg-color: #434B5C;\n",
              "      --hover-fill-color: #FFFFFF;\n",
              "      --disabled-bg-color: #3B4455;\n",
              "      --disabled-fill-color: #666;\n",
              "  }\n",
              "\n",
              "  .colab-df-quickchart {\n",
              "    background-color: var(--bg-color);\n",
              "    border: none;\n",
              "    border-radius: 50%;\n",
              "    cursor: pointer;\n",
              "    display: none;\n",
              "    fill: var(--fill-color);\n",
              "    height: 32px;\n",
              "    padding: 0;\n",
              "    width: 32px;\n",
              "  }\n",
              "\n",
              "  .colab-df-quickchart:hover {\n",
              "    background-color: var(--hover-bg-color);\n",
              "    box-shadow: 0 1px 2px rgba(60, 64, 67, 0.3), 0 1px 3px 1px rgba(60, 64, 67, 0.15);\n",
              "    fill: var(--button-hover-fill-color);\n",
              "  }\n",
              "\n",
              "  .colab-df-quickchart-complete:disabled,\n",
              "  .colab-df-quickchart-complete:disabled:hover {\n",
              "    background-color: var(--disabled-bg-color);\n",
              "    fill: var(--disabled-fill-color);\n",
              "    box-shadow: none;\n",
              "  }\n",
              "\n",
              "  .colab-df-spinner {\n",
              "    border: 2px solid var(--fill-color);\n",
              "    border-color: transparent;\n",
              "    border-bottom-color: var(--fill-color);\n",
              "    animation:\n",
              "      spin 1s steps(1) infinite;\n",
              "  }\n",
              "\n",
              "  @keyframes spin {\n",
              "    0% {\n",
              "      border-color: transparent;\n",
              "      border-bottom-color: var(--fill-color);\n",
              "      border-left-color: var(--fill-color);\n",
              "    }\n",
              "    20% {\n",
              "      border-color: transparent;\n",
              "      border-left-color: var(--fill-color);\n",
              "      border-top-color: var(--fill-color);\n",
              "    }\n",
              "    30% {\n",
              "      border-color: transparent;\n",
              "      border-left-color: var(--fill-color);\n",
              "      border-top-color: var(--fill-color);\n",
              "      border-right-color: var(--fill-color);\n",
              "    }\n",
              "    40% {\n",
              "      border-color: transparent;\n",
              "      border-right-color: var(--fill-color);\n",
              "      border-top-color: var(--fill-color);\n",
              "    }\n",
              "    60% {\n",
              "      border-color: transparent;\n",
              "      border-right-color: var(--fill-color);\n",
              "    }\n",
              "    80% {\n",
              "      border-color: transparent;\n",
              "      border-right-color: var(--fill-color);\n",
              "      border-bottom-color: var(--fill-color);\n",
              "    }\n",
              "    90% {\n",
              "      border-color: transparent;\n",
              "      border-bottom-color: var(--fill-color);\n",
              "    }\n",
              "  }\n",
              "</style>\n",
              "\n",
              "  <script>\n",
              "    async function quickchart(key) {\n",
              "      const quickchartButtonEl =\n",
              "        document.querySelector('#' + key + ' button');\n",
              "      quickchartButtonEl.disabled = true;  // To prevent multiple clicks.\n",
              "      quickchartButtonEl.classList.add('colab-df-spinner');\n",
              "      try {\n",
              "        const charts = await google.colab.kernel.invokeFunction(\n",
              "            'suggestCharts', [key], {});\n",
              "      } catch (error) {\n",
              "        console.error('Error during call to suggestCharts:', error);\n",
              "      }\n",
              "      quickchartButtonEl.classList.remove('colab-df-spinner');\n",
              "      quickchartButtonEl.classList.add('colab-df-quickchart-complete');\n",
              "    }\n",
              "    (() => {\n",
              "      let quickchartButtonEl =\n",
              "        document.querySelector('#df-1e3d4f54-0881-4c64-9e96-ef1e3d11fbcc button');\n",
              "      quickchartButtonEl.style.display =\n",
              "        google.colab.kernel.accessAllowed ? 'block' : 'none';\n",
              "    })();\n",
              "  </script>\n",
              "</div>\n",
              "\n",
              "    </div>\n",
              "  </div>\n"
            ],
            "application/vnd.google.colaboratory.intrinsic+json": {
              "type": "dataframe",
              "variable_name": "movies",
              "summary": "{\n  \"name\": \"movies\",\n  \"rows\": 9742,\n  \"fields\": [\n    {\n      \"column\": \"movieId\",\n      \"properties\": {\n        \"dtype\": \"number\",\n        \"std\": 52160,\n        \"min\": 1,\n        \"max\": 193609,\n        \"num_unique_values\": 9742,\n        \"samples\": [\n          45635,\n          1373,\n          7325\n        ],\n        \"semantic_type\": \"\",\n        \"description\": \"\"\n      }\n    },\n    {\n      \"column\": \"title\",\n      \"properties\": {\n        \"dtype\": \"string\",\n        \"num_unique_values\": 9737,\n        \"samples\": [\n          \"Teenage Mutant Ninja Turtles (2014)\",\n          \"America's Sweethearts (2001)\",\n          \"Cast Away (2000)\"\n        ],\n        \"semantic_type\": \"\",\n        \"description\": \"\"\n      }\n    },\n    {\n      \"column\": \"genres\",\n      \"properties\": {\n        \"dtype\": \"object\",\n        \"semantic_type\": \"\",\n        \"description\": \"\"\n      }\n    }\n  ]\n}"
            }
          },
          "metadata": {},
          "execution_count": 6
        }
      ],
      "source": [
        "movies.head(2)"
      ]
    },
    {
      "cell_type": "markdown",
      "id": "4254804f-7805-44f5-81ee-77c2a7457023",
      "metadata": {
        "id": "4254804f-7805-44f5-81ee-77c2a7457023"
      },
      "source": [
        "# Content Based"
      ]
    },
    {
      "cell_type": "code",
      "execution_count": 7,
      "id": "76b4bd60-a1ee-4a83-bf95-c06b99574176",
      "metadata": {
        "colab": {
          "base_uri": "https://localhost:8080/"
        },
        "id": "76b4bd60-a1ee-4a83-bf95-c06b99574176",
        "outputId": "cd45e187-4043-4865-a703-f899c9228a2f"
      },
      "outputs": [
        {
          "output_type": "stream",
          "name": "stdout",
          "text": [
            "(9742, 23)\n"
          ]
        }
      ],
      "source": [
        "from sklearn.feature_extraction.text import TfidfVectorizer\n",
        "\n",
        "# Convert genres list back to a string\n",
        "movies['genres_str'] = movies['genres'].apply(lambda x: ' '.join(x))\n",
        "\n",
        "# Apply TF-IDF Vectorization\n",
        "tfidf = TfidfVectorizer(stop_words='english')\n",
        "tfidf_matrix = tfidf.fit_transform(movies['genres_str'])\n",
        "\n",
        "print(tfidf_matrix.shape)  # Output: (9742, Number of unique genres)\n"
      ]
    },
    {
      "cell_type": "code",
      "execution_count": 8,
      "id": "72fa031f-d0fe-4af3-92ef-874f8a4fee80",
      "metadata": {
        "id": "72fa031f-d0fe-4af3-92ef-874f8a4fee80"
      },
      "outputs": [],
      "source": [
        "from sklearn.metrics.pairwise import cosine_similarity\n",
        "\n",
        "cosine_sim = cosine_similarity(tfidf_matrix)\n"
      ]
    },
    {
      "cell_type": "code",
      "execution_count": 9,
      "id": "6f9d65ef-3949-4792-a3c2-58c928454126",
      "metadata": {
        "colab": {
          "base_uri": "https://localhost:8080/"
        },
        "id": "6f9d65ef-3949-4792-a3c2-58c928454126",
        "outputId": "c80325af-d693-425f-f781-e5ed7ebd81b0"
      },
      "outputs": [
        {
          "output_type": "stream",
          "name": "stdout",
          "text": [
            "1706                                          Antz (1998)\n",
            "2355                                   Toy Story 2 (1999)\n",
            "2809       Adventures of Rocky and Bullwinkle, The (2000)\n",
            "3000                     Emperor's New Groove, The (2000)\n",
            "3568                                Monsters, Inc. (2001)\n",
            "6194                                     Wild, The (2006)\n",
            "6486                               Shrek the Third (2007)\n",
            "6948                       Tale of Despereaux, The (2008)\n",
            "7760    Asterix and the Vikings (Astérix et les Viking...\n",
            "8219                                         Turbo (2013)\n",
            "Name: title, dtype: object\n"
          ]
        }
      ],
      "source": [
        "def get_content_recommendations(movie_title, movies, cosine_sim):\n",
        "    idx = movies[movies['title'] == movie_title].index[0]\n",
        "    sim_scores = list(enumerate(cosine_sim[idx]))\n",
        "    sim_scores = sorted(sim_scores, key=lambda x: x[1], reverse=True)[1:11]  # Top 10 movies\n",
        "    movie_indices = [i[0] for i in sim_scores]\n",
        "    return movies.iloc[movie_indices]['title']\n",
        "\n",
        "# Example Usage\n",
        "print(get_content_recommendations(\"Toy Story (1995)\", movies, cosine_sim))\n"
      ]
    },
    {
      "cell_type": "markdown",
      "id": "501eda5e-76c7-42f1-9132-ee30b8bfcfb4",
      "metadata": {
        "id": "501eda5e-76c7-42f1-9132-ee30b8bfcfb4"
      },
      "source": [
        "# Collaborative Filtering"
      ]
    },
    {
      "cell_type": "code",
      "execution_count": 10,
      "id": "769ae705-df89-4f28-a1d8-f0dd8b0fae8f",
      "metadata": {
        "id": "769ae705-df89-4f28-a1d8-f0dd8b0fae8f"
      },
      "outputs": [],
      "source": [
        "import numpy as np\n",
        "from sklearn.metrics.pairwise import pairwise_distances\n",
        "\n",
        "user_movie_matrix = ratings.pivot(index='userId', columns='movieId', values='rating').fillna(0)\n",
        "\n",
        "# Compute User-User and Item-Item Similarities\n",
        "user_similarity = 1 - pairwise_distances(user_movie_matrix, metric=\"cosine\")\n",
        "item_similarity = 1 - pairwise_distances(user_movie_matrix.T, metric=\"cosine\")\n",
        "\n"
      ]
    },
    {
      "cell_type": "code",
      "execution_count": 11,
      "id": "33d0b491-77b4-40cc-80bf-1c48ba7831d9",
      "metadata": {
        "colab": {
          "base_uri": "https://localhost:8080/"
        },
        "id": "33d0b491-77b4-40cc-80bf-1c48ba7831d9",
        "outputId": "2c59a94f-025d-4e73-8b86-4fff33253552"
      },
      "outputs": [
        {
          "output_type": "stream",
          "name": "stdout",
          "text": [
            "97                     Braveheart (1995)\n",
            "123                     Apollo 13 (1995)\n",
            "126                Batman Forever (1995)\n",
            "134                  Crimson Tide (1995)\n",
            "277     Shawshank Redemption, The (1994)\n",
            "287        Star Trek: Generations (1994)\n",
            "307      Clear and Present Danger (1994)\n",
            "398                 Fugitive, The (1993)\n",
            "507    Terminator 2: Judgment Day (1991)\n",
            "509                        Batman (1989)\n",
            "Name: title, dtype: object\n"
          ]
        }
      ],
      "source": [
        "def get_user_based_recommendations(user_id, user_movie_matrix, user_similarity, movies):\n",
        "    similar_users = np.argsort(user_similarity[user_id])[-5:-1]  # Top 4 similar users\n",
        "    similar_users_ratings = user_movie_matrix.iloc[similar_users].mean(axis=0)  # Average their ratings\n",
        "    recommendations = similar_users_ratings.sort_values(ascending=False).head(10)\n",
        "    return movies[movies['movieId'].isin(recommendations.index)]['title']\n",
        "\n",
        "print(get_user_based_recommendations(10, user_movie_matrix, user_similarity, movies))\n"
      ]
    },
    {
      "cell_type": "code",
      "execution_count": 14,
      "id": "26793952-a95a-46ed-bdd6-d638c58cc529",
      "metadata": {
        "colab": {
          "base_uri": "https://localhost:8080/"
        },
        "id": "26793952-a95a-46ed-bdd6-d638c58cc529",
        "outputId": "16663041-254d-4f53-9c37-497de453b220"
      },
      "outputs": [
        {
          "output_type": "stream",
          "name": "stdout",
          "text": [
            "Collecting surprise\n",
            "  Downloading surprise-0.1-py2.py3-none-any.whl.metadata (327 bytes)\n",
            "Collecting scikit-surprise (from surprise)\n",
            "  Downloading scikit_surprise-1.1.4.tar.gz (154 kB)\n",
            "\u001b[2K     \u001b[90m━━━━━━━━━━━━━━━━━━━━━━━━━━━━━━━━━━━━━━━━\u001b[0m \u001b[32m154.4/154.4 kB\u001b[0m \u001b[31m3.9 MB/s\u001b[0m eta \u001b[36m0:00:00\u001b[0m\n",
            "\u001b[?25h  Installing build dependencies ... \u001b[?25l\u001b[?25hdone\n",
            "  Getting requirements to build wheel ... \u001b[?25l\u001b[?25hdone\n",
            "  Preparing metadata (pyproject.toml) ... \u001b[?25l\u001b[?25hdone\n",
            "Requirement already satisfied: joblib>=1.2.0 in /usr/local/lib/python3.11/dist-packages (from scikit-surprise->surprise) (1.4.2)\n",
            "Requirement already satisfied: numpy>=1.19.5 in /usr/local/lib/python3.11/dist-packages (from scikit-surprise->surprise) (1.26.4)\n",
            "Requirement already satisfied: scipy>=1.6.0 in /usr/local/lib/python3.11/dist-packages (from scikit-surprise->surprise) (1.13.1)\n",
            "Downloading surprise-0.1-py2.py3-none-any.whl (1.8 kB)\n",
            "Building wheels for collected packages: scikit-surprise\n",
            "  Building wheel for scikit-surprise (pyproject.toml) ... \u001b[?25l\u001b[?25hdone\n",
            "  Created wheel for scikit-surprise: filename=scikit_surprise-1.1.4-cp311-cp311-linux_x86_64.whl size=2505175 sha256=e61edc0d1bc89d2c93d6a0083c30364e32f72a3a950fe38df5dc37f3a120c4e1\n",
            "  Stored in directory: /root/.cache/pip/wheels/2a/8f/6e/7e2899163e2d85d8266daab4aa1cdabec7a6c56f83c015b5af\n",
            "Successfully built scikit-surprise\n",
            "Installing collected packages: scikit-surprise, surprise\n",
            "Successfully installed scikit-surprise-1.1.4 surprise-0.1\n"
          ]
        }
      ],
      "source": [
        "# !pip install surprise"
      ]
    },
    {
      "cell_type": "code",
      "execution_count": 15,
      "id": "672390a4-cabe-4692-9a0f-b11fe1f8ee24",
      "metadata": {
        "colab": {
          "base_uri": "https://localhost:8080/"
        },
        "id": "672390a4-cabe-4692-9a0f-b11fe1f8ee24",
        "outputId": "bd270386-eb62-48cc-dba9-ebf7bc03e66c"
      },
      "outputs": [
        {
          "output_type": "stream",
          "name": "stdout",
          "text": [
            "Evaluating RMSE, MAE of algorithm SVD on 5 split(s).\n",
            "\n",
            "                  Fold 1  Fold 2  Fold 3  Fold 4  Fold 5  Mean    Std     \n",
            "RMSE (testset)    0.8806  0.8768  0.8767  0.8632  0.8717  0.8738  0.0060  \n",
            "MAE (testset)     0.6784  0.6728  0.6744  0.6636  0.6692  0.6717  0.0050  \n",
            "Fit time          2.61    4.27    3.96    4.14    4.80    3.96    0.73    \n",
            "Test time         0.46    0.40    0.39    0.28    0.21    0.35    0.09    \n"
          ]
        },
        {
          "output_type": "execute_result",
          "data": {
            "text/plain": [
              "{'test_rmse': array([0.88061497, 0.87683513, 0.87672947, 0.8632303 , 0.87165003]),\n",
              " 'test_mae': array([0.67836912, 0.67275467, 0.67442653, 0.66356715, 0.66924769]),\n",
              " 'fit_time': (2.60556960105896,\n",
              "  4.272253513336182,\n",
              "  3.9649181365966797,\n",
              "  4.142176866531372,\n",
              "  4.8000547885894775),\n",
              " 'test_time': (0.4604363441467285,\n",
              "  0.3961308002471924,\n",
              "  0.3944129943847656,\n",
              "  0.27955150604248047,\n",
              "  0.21375155448913574)}"
            ]
          },
          "metadata": {},
          "execution_count": 15
        }
      ],
      "source": [
        "from surprise import SVD, Dataset, Reader\n",
        "from surprise.model_selection import cross_validate\n",
        "\n",
        "# Load Data\n",
        "reader = Reader(rating_scale=(0.5, 5.0))\n",
        "data = Dataset.load_from_df(ratings[['userId', 'movieId', 'rating']], reader)\n",
        "\n",
        "# Train Model\n",
        "svd = SVD()\n",
        "cross_validate(svd, data, cv=5, verbose=True)\n"
      ]
    },
    {
      "cell_type": "markdown",
      "id": "0fbe0f84-e973-4332-aa82-1912c965fc8a",
      "metadata": {
        "id": "0fbe0f84-e973-4332-aa82-1912c965fc8a"
      },
      "source": [
        "## Precision @k Recall @k"
      ]
    },
    {
      "cell_type": "code",
      "execution_count": 16,
      "id": "2cae56e7-d7f3-4eb8-8a8c-86d99325f4ca",
      "metadata": {
        "colab": {
          "base_uri": "https://localhost:8080/"
        },
        "id": "2cae56e7-d7f3-4eb8-8a8c-86d99325f4ca",
        "outputId": "33754f8d-511d-460f-8ec7-1569ccdad677"
      },
      "outputs": [
        {
          "output_type": "stream",
          "name": "stdout",
          "text": [
            "Precision: 1.0000, Recall: 0.7500\n"
          ]
        }
      ],
      "source": [
        "from sklearn.metrics import precision_score, recall_score\n",
        "\n",
        "# Example: Compute Precision and Recall\n",
        "y_true = [1, 0, 1, 1, 0, 1]  # True ratings (binary)\n",
        "y_pred = [1, 0, 1, 0, 0, 1]  # Predicted ratings\n",
        "\n",
        "precision = precision_score(y_true, y_pred)\n",
        "recall = recall_score(y_true, y_pred)\n",
        "\n",
        "print(f\"Precision: {precision:.4f}, Recall: {recall:.4f}\")\n"
      ]
    },
    {
      "cell_type": "code",
      "execution_count": 17,
      "id": "7e5b73bf-a7c0-4efb-a16d-75e01f613fe0",
      "metadata": {
        "colab": {
          "base_uri": "https://localhost:8080/"
        },
        "id": "7e5b73bf-a7c0-4efb-a16d-75e01f613fe0",
        "outputId": "d6450628-b79a-44c9-ff18-4c8a7c29a340"
      },
      "outputs": [
        {
          "output_type": "stream",
          "name": "stdout",
          "text": [
            "NDCG: 0.9846\n"
          ]
        }
      ],
      "source": [
        "## NDCG\n",
        "from sklearn.metrics import ndcg_score\n",
        "\n",
        "# Compute NDCG\n",
        "ndcg = ndcg_score([y_true], [y_pred])\n",
        "print(f\"NDCG: {ndcg:.4f}\")\n"
      ]
    },
    {
      "cell_type": "code",
      "execution_count": 18,
      "id": "1a8eaf02-df0c-43ac-8f94-85566785597a",
      "metadata": {
        "colab": {
          "base_uri": "https://localhost:8080/"
        },
        "id": "1a8eaf02-df0c-43ac-8f94-85566785597a",
        "outputId": "83f01a18-3d0c-46ea-85fc-613c75a27a64"
      },
      "outputs": [
        {
          "output_type": "stream",
          "name": "stdout",
          "text": [
            "RMSE: 0.4082\n"
          ]
        }
      ],
      "source": [
        "from sklearn.metrics import mean_squared_error\n",
        "\n",
        "# Compute RMSE\n",
        "rmse = np.sqrt(mean_squared_error(y_true, y_pred))\n",
        "print(f\"RMSE: {rmse:.4f}\")\n"
      ]
    },
    {
      "cell_type": "markdown",
      "id": "f6366bd0-57ed-4336-98b7-dd71be576c2c",
      "metadata": {
        "id": "f6366bd0-57ed-4336-98b7-dd71be576c2c"
      },
      "source": [
        "## Neural Collaborative Filtering"
      ]
    },
    {
      "cell_type": "code",
      "execution_count": 19,
      "id": "9bf38f1e-5353-4c7e-b8cf-156e5cfe2293",
      "metadata": {
        "id": "9bf38f1e-5353-4c7e-b8cf-156e5cfe2293"
      },
      "outputs": [],
      "source": [
        "import pandas as pd\n",
        "import numpy as np\n",
        "import torch\n",
        "import torch.nn as nn\n",
        "import torch.optim as optim\n",
        "from torch.utils.data import Dataset, DataLoader\n",
        "from sklearn.model_selection import train_test_split\n",
        "from sklearn.metrics import mean_squared_error"
      ]
    },
    {
      "cell_type": "code",
      "execution_count": 20,
      "id": "a7364637-3146-4510-b2f3-823dea9c99ad",
      "metadata": {
        "id": "a7364637-3146-4510-b2f3-823dea9c99ad"
      },
      "outputs": [],
      "source": [
        "ratings = pd.read_csv(\"ratings.csv\")\n",
        "\n",
        "# Encode userId and movieId into continuous indices\n",
        "user_mapping = {id: idx for idx, id in enumerate(ratings[\"userId\"].unique())}\n",
        "item_mapping = {id: idx for idx, id in enumerate(ratings[\"movieId\"].unique())}\n",
        "\n",
        "ratings[\"userId\"] = ratings[\"userId\"].map(user_mapping)\n",
        "ratings[\"movieId\"] = ratings[\"movieId\"].map(item_mapping)\n",
        "\n",
        "# Split data into train and test sets\n",
        "train_data, test_data = train_test_split(ratings, test_size=0.2, random_state=42)\n",
        "\n",
        "# Convert to tensors\n",
        "train_users = torch.tensor(train_data[\"userId\"].values, dtype=torch.long)\n",
        "train_items = torch.tensor(train_data[\"movieId\"].values, dtype=torch.long)\n",
        "train_ratings = torch.tensor(train_data[\"rating\"].values, dtype=torch.float32)\n",
        "\n",
        "test_users = torch.tensor(test_data[\"userId\"].values, dtype=torch.long)\n",
        "test_items = torch.tensor(test_data[\"movieId\"].values, dtype=torch.long)\n",
        "test_ratings = torch.tensor(test_data[\"rating\"].values, dtype=torch.float32)\n",
        "\n",
        "class MovieLensDataset(Dataset):\n",
        "    def __init__(self, users, items, ratings):\n",
        "        self.users = users\n",
        "        self.items = items\n",
        "        self.ratings = ratings\n",
        "\n",
        "    def __len__(self):\n",
        "        return len(self.ratings)\n",
        "\n",
        "    def __getitem__(self, idx):\n",
        "        return self.users[idx], self.items[idx], self.ratings[idx]\n",
        "\n",
        "train_dataset = MovieLensDataset(train_users, train_items, train_ratings)\n",
        "test_dataset = MovieLensDataset(test_users, test_items, test_ratings)\n",
        "\n",
        "train_loader = DataLoader(train_dataset, batch_size=64, shuffle=True)\n",
        "test_loader = DataLoader(test_dataset, batch_size=64, shuffle=False)\n"
      ]
    },
    {
      "cell_type": "code",
      "execution_count": 21,
      "id": "0f4ee259-2962-4f04-baf1-f034b210db33",
      "metadata": {
        "id": "0f4ee259-2962-4f04-baf1-f034b210db33"
      },
      "outputs": [],
      "source": [
        "class NeuralCF(nn.Module):\n",
        "    def __init__(self, num_users, num_items, embedding_size=50):\n",
        "        super(NeuralCF, self).__init__()\n",
        "        self.user_embedding = nn.Embedding(num_users, embedding_size)\n",
        "        self.item_embedding = nn.Embedding(num_items, embedding_size)\n",
        "\n",
        "        self.fc_layers = nn.Sequential(\n",
        "            nn.Linear(embedding_size * 2, 128),\n",
        "            nn.ReLU(),\n",
        "            nn.Linear(128, 64),\n",
        "            nn.ReLU(),\n",
        "            nn.Linear(64, 1)\n",
        "        )\n",
        "\n",
        "    def forward(self, user, item):\n",
        "        user_emb = self.user_embedding(user)\n",
        "        item_emb = self.item_embedding(item)\n",
        "        x = torch.cat([user_emb, item_emb], dim=-1)\n",
        "        return self.fc_layers(x).squeeze()\n"
      ]
    },
    {
      "cell_type": "code",
      "execution_count": 22,
      "id": "404c42b0-60ae-4f25-940a-841649af3168",
      "metadata": {
        "colab": {
          "base_uri": "https://localhost:8080/"
        },
        "id": "404c42b0-60ae-4f25-940a-841649af3168",
        "outputId": "c2490fc4-caff-4d51-ee72-c788ef1b4509"
      },
      "outputs": [
        {
          "output_type": "stream",
          "name": "stdout",
          "text": [
            "Epoch 1/10, Loss: 1.0896\n",
            "Epoch 2/10, Loss: 0.8192\n",
            "Epoch 3/10, Loss: 0.7574\n",
            "Epoch 4/10, Loss: 0.7098\n",
            "Epoch 5/10, Loss: 0.6731\n",
            "Epoch 6/10, Loss: 0.6410\n",
            "Epoch 7/10, Loss: 0.6098\n",
            "Epoch 8/10, Loss: 0.5788\n",
            "Epoch 9/10, Loss: 0.5477\n",
            "Epoch 10/10, Loss: 0.5176\n"
          ]
        }
      ],
      "source": [
        "# Get number of users and items\n",
        "num_users = ratings[\"userId\"].nunique()\n",
        "num_items = ratings[\"movieId\"].nunique()\n",
        "\n",
        "# Initialize model, optimizer, and loss function\n",
        "device = torch.device(\"cuda\" if torch.cuda.is_available() else \"cpu\")\n",
        "model = NeuralCF(num_users, num_items).to(device)\n",
        "optimizer = optim.Adam(model.parameters(), lr=0.001)\n",
        "criterion = nn.MSELoss()\n",
        "\n",
        "# Training loop\n",
        "def train(model, train_loader, optimizer, criterion, epochs=5):\n",
        "    model.train()\n",
        "    for epoch in range(epochs):\n",
        "        total_loss = 0\n",
        "        for users, items, ratings in train_loader:\n",
        "            users, items, ratings = users.to(device), items.to(device), ratings.to(device)\n",
        "\n",
        "            optimizer.zero_grad()\n",
        "            predictions = model(users, items)\n",
        "            loss = criterion(predictions, ratings)\n",
        "            loss.backward()\n",
        "            optimizer.step()\n",
        "\n",
        "            total_loss += loss.item()\n",
        "\n",
        "        print(f\"Epoch {epoch+1}/{epochs}, Loss: {total_loss / len(train_loader):.4f}\")\n",
        "\n",
        "train(model, train_loader, optimizer, criterion, epochs=10)\n"
      ]
    },
    {
      "cell_type": "code",
      "source": [
        "# test_dataset"
      ],
      "metadata": {
        "id": "Ga2qp4D0t2mN"
      },
      "id": "Ga2qp4D0t2mN",
      "execution_count": 27,
      "outputs": []
    },
    {
      "cell_type": "code",
      "execution_count": 33,
      "id": "64efd274-9ba4-49b1-97da-95fb006ebc53",
      "metadata": {
        "colab": {
          "base_uri": "https://localhost:8080/"
        },
        "id": "64efd274-9ba4-49b1-97da-95fb006ebc53",
        "outputId": "fe83d616-4d23-466e-ce99-70e5785ac37d"
      },
      "outputs": [
        {
          "output_type": "stream",
          "name": "stdout",
          "text": [
            "RMSE: 0.8685\n",
            "Precision@K: 0.7816\n",
            "Recall@K: 0.6471\n"
          ]
        },
        {
          "output_type": "execute_result",
          "data": {
            "text/plain": [
              "(0.8685087940698402, 0.7815956926089085, 0.6470540562444282)"
            ]
          },
          "metadata": {},
          "execution_count": 33
        }
      ],
      "source": [
        "import torch\n",
        "import numpy as np\n",
        "from sklearn.metrics import mean_squared_error, precision_score, recall_score\n",
        "\n",
        "def evaluate(model, test_loader):\n",
        "    model.eval()\n",
        "    predictions, true_ratings = [], []\n",
        "\n",
        "    with torch.no_grad():\n",
        "        for batch in test_loader:\n",
        "            if len(batch) == 3:\n",
        "                users, items, ratings = batch\n",
        "                users, items, ratings = users.to(device), items.to(device), ratings.to(device)\n",
        "\n",
        "                preds = model(users, items).cpu().numpy()\n",
        "                ratings = ratings.cpu().numpy()\n",
        "\n",
        "                predictions.extend(preds)\n",
        "                true_ratings.extend(ratings)  # Ensure we collect true ratings\n",
        "\n",
        "    # Check if we have valid ratings before proceeding\n",
        "    if len(true_ratings) == 0 or len(predictions) == 0:\n",
        "        print(\"No valid ratings available for evaluation!\")\n",
        "        return None, None\n",
        "\n",
        "    # Compute RMSE\n",
        "    rmse = mean_squared_error(true_ratings, predictions)\n",
        "    print(f\"RMSE: {rmse:.4f}\")\n",
        "\n",
        "    # Convert ratings into binary classes (1 = liked, 0 = not liked)\n",
        "    threshold = 3.5\n",
        "    binary_true = np.array(true_ratings) >= threshold\n",
        "    binary_preds = np.array(predictions) >= threshold\n",
        "\n",
        "    # Ensure both arrays have the same length\n",
        "    if len(binary_true) != len(binary_preds):\n",
        "        print(\"Error: Inconsistent lengths between true and predicted ratings!\")\n",
        "        return None, None\n",
        "\n",
        "    # Precision@K and Recall@K\n",
        "    precision_at_k = precision_score(binary_true, binary_preds, zero_division=1)\n",
        "    recall_at_k = recall_score(binary_true, binary_preds, zero_division=1)\n",
        "\n",
        "    print(f\"Precision@K: {precision_at_k:.4f}\")\n",
        "    print(f\"Recall@K: {recall_at_k:.4f}\")\n",
        "\n",
        "    return rmse, precision_at_k, recall_at_k\n",
        "\n",
        "# Run Evaluation\n",
        "evaluate(model, test_loader)\n"
      ]
    },
    {
      "cell_type": "markdown",
      "id": "c759457b-6bbf-4ce9-a94d-41d2c391a04e",
      "metadata": {
        "id": "c759457b-6bbf-4ce9-a94d-41d2c391a04e"
      },
      "source": [
        "    Conclusion\n",
        "    Content-Based Filtering recommends movies based on genres.\n",
        "    Collaborative Filtering recommends movies based on similar users or similar movies.\n",
        "    Matrix Factorization (SVD) predicts unknown ratings effectively.\n",
        "    Evaluation Metrics (Precision, Recall, NDCG, RMSE) measure model performance.\n"
      ]
    },
    {
      "cell_type": "code",
      "source": [],
      "metadata": {
        "id": "QkX3n5Sqz52k"
      },
      "id": "QkX3n5Sqz52k",
      "execution_count": null,
      "outputs": []
    }
  ],
  "metadata": {
    "kernelspec": {
      "display_name": "Python 3 (ipykernel)",
      "language": "python",
      "name": "python3"
    },
    "language_info": {
      "codemirror_mode": {
        "name": "ipython",
        "version": 3
      },
      "file_extension": ".py",
      "mimetype": "text/x-python",
      "name": "python",
      "nbconvert_exporter": "python",
      "pygments_lexer": "ipython3",
      "version": "3.10.13"
    },
    "colab": {
      "provenance": []
    }
  },
  "nbformat": 4,
  "nbformat_minor": 5
}